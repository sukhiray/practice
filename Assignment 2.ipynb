{
 "cells": [
  {
   "cell_type": "markdown",
   "metadata": {},
   "source": [
    "# Tuple\n",
    "\n",
    "### It is a type of variable which can store number of elements in it\n",
    "### Its elements once assigned, can not be changed\n",
    "## &nbsp;&nbsp;&nbsp;&nbsp;&nbsp;hence, Tuple is Immutable "
   ]
  },
  {
   "cell_type": "markdown",
   "metadata": {},
   "source": [
    "# Q1"
   ]
  },
  {
   "cell_type": "markdown",
   "metadata": {},
   "source": [
    "####  &nbsp; Tuple is immutable. Nothing can be added or deleted from a Tuple.\n",
    "#### &nbsp;&nbsp; &nbsp;&nbsp;&nbsp; We can create a new tuple  \n",
    "###  &nbsp;&nbsp;&nbsp;   &nbsp;&nbsp;&nbsp; &nbsp;&nbsp;&nbsp;                         using merge + operator\n",
    "###  &nbsp;&nbsp;&nbsp;   &nbsp;&nbsp;&nbsp; &nbsp;&nbsp;&nbsp;                         converting into list"
   ]
  },
  {
   "cell_type": "code",
   "execution_count": 12,
   "metadata": {},
   "outputs": [
    {
     "name": "stdout",
     "output_type": "stream",
     "text": [
      "Enter number of elements : 3\n",
      "23\n",
      "ed\n",
      "3e\n",
      "('23', 'ed', '3e')\n"
     ]
    }
   ],
   "source": [
    "# creating an empty tuple\n",
    "\n",
    "mytup = tuple()\n",
    "\n",
    "# number of elemetns as input\n",
    "\n",
    "n = int(input(\"Enter number of elements : \"))\n",
    "\n",
    "# iterating till the range\n",
    "\n",
    "for i in range(0, n):\n",
    "    ele = (input()) # reading input\n",
    "    mytup=mytup + (ele,) # adding the element\n",
    "\n",
    "print(mytup) #print tuple"
   ]
  },
  {
   "cell_type": "code",
   "execution_count": 27,
   "metadata": {},
   "outputs": [
    {
     "name": "stdout",
     "output_type": "stream",
     "text": [
      "<class 'tuple'> values are  ('sd', '34', 'erd', '345')\n",
      "4 ['sd', '34', 'erd', '345']\n",
      "['sd', '34', 'erd', '345', '4e']\n",
      "<class 'tuple'> ('sd', '34', 'erd', '345', '4e')\n"
     ]
    }
   ],
   "source": [
    "Tp=(\"sd\",\"34\",\"erd\",\"345\")\n",
    "print(type(Tp),\"values are \",Tp)\n",
    "mylist=list(Tp)\n",
    "                    # print(len(mylist),mylist)\n",
    "mylist.append(\"4e\")\n",
    "print(mylist)\n",
    "MyTp=tuple(mylist)\n",
    "print(type(MyTp), MyTp)"
   ]
  },
  {
   "cell_type": "markdown",
   "metadata": {},
   "source": [
    "# Q2\n"
   ]
  },
  {
   "cell_type": "code",
   "execution_count": 26,
   "metadata": {},
   "outputs": [
    {
     "name": "stdout",
     "output_type": "stream",
     "text": [
      "('sd', '34', 'erd', '345')\n",
      "The reversed Tuple is  ( ('345', 'erd', '34', 'sd') )\n"
     ]
    }
   ],
   "source": [
    "# Reverse a Tuple\n",
    "print((Tp))\n",
    "print('The reversed Tuple is  (',Tp[::-1],')')"
   ]
  },
  {
   "cell_type": "markdown",
   "metadata": {},
   "source": [
    "# Q3"
   ]
  },
  {
   "cell_type": "code",
   "execution_count": 47,
   "metadata": {},
   "outputs": [
    {
     "name": "stdout",
     "output_type": "stream",
     "text": [
      "<class 'tuple'>\n",
      "At starting \n",
      "tup1:  (11, 22) tup2 : (99, 88)\n",
      "After swaping \n",
      "tup1:  (99, 88) tup2 : (11, 22)\n"
     ]
    }
   ],
   "source": [
    "# Swap tuples\n",
    "\n",
    "tup1=(11,22)\n",
    "tup2=99,88\n",
    "\n",
    "print(\"At starting \")\n",
    "print(\"tup1: \", tup1,\"tup2 :\",tup2)\n",
    "\n",
    "tup1,tup2=tup2,tup1    # swaping\n",
    "\n",
    "print(\"After swaping \")\n",
    "print(\"tup1: \", tup1,\"tup2 :\",tup2)"
   ]
  },
  {
   "cell_type": "markdown",
   "metadata": {},
   "source": [
    "# Q4"
   ]
  },
  {
   "cell_type": "code",
   "execution_count": 16,
   "metadata": {},
   "outputs": [
    {
     "name": "stdout",
     "output_type": "stream",
     "text": [
      "[222, 33]\n",
      "(11, [222, 33], 44, 55)\n"
     ]
    }
   ],
   "source": [
    "# modify tuple\n",
    "tuple1 = (11, [22, 33], 44, 55)\n",
    "\n",
    "lst1=tuple1[1]\n",
    "lst1[0]=222\n",
    "print(lst1)\n",
    "\n",
    "print(tuple1)"
   ]
  },
  {
   "cell_type": "markdown",
   "metadata": {},
   "source": [
    "# Q5"
   ]
  },
  {
   "cell_type": "code",
   "execution_count": 49,
   "metadata": {},
   "outputs": [
    {
     "name": "stdout",
     "output_type": "stream",
     "text": [
      "{'a0': 11, 'a1': [222, 33], 'a2': 44, 'a3': 55}\n"
     ]
    }
   ],
   "source": [
    "# unpack a tuple\n",
    "a={}\n",
    "for i in range(len(tuple1)):\n",
    "     a[\"a{}\".format(i)]=tuple1[i]        # a[\"a%s\" %i]=tuple1[i] \n",
    "print(a)"
   ]
  },
  {
   "cell_type": "markdown",
   "metadata": {},
   "source": [
    "# Q6"
   ]
  },
  {
   "cell_type": "code",
   "execution_count": 8,
   "metadata": {},
   "outputs": [
    {
     "name": "stdout",
     "output_type": "stream",
     "text": [
      "<class 'set'>\n"
     ]
    }
   ],
   "source": [
    "# empty set\n",
    "\n",
    "myset=set()\n",
    "print(type(myset))"
   ]
  },
  {
   "cell_type": "markdown",
   "metadata": {},
   "source": [
    "# Q7 & Q8"
   ]
  },
  {
   "cell_type": "code",
   "execution_count": 23,
   "metadata": {},
   "outputs": [
    {
     "name": "stdout",
     "output_type": "stream",
     "text": [
      "Common elements : {2, 3, 5} \n",
      "Different Elements : {1, 4, 7, 9}\n"
     ]
    }
   ],
   "source": [
    "# create an intersection of sets\n",
    "# symmetric difference in sets\n",
    "\n",
    "set1={1,2,3,4,5}\n",
    "set2={3,5,7,9,2}\n",
    "\n",
    "n=set2.intersection(set1)\n",
    "m=set2.symmetric_difference(set1)\n",
    "print(\"Common elements :\",n ,\"\\nDifferent Elements :\",m)"
   ]
  },
  {
   "cell_type": "markdown",
   "metadata": {},
   "source": [
    "# Q9"
   ]
  },
  {
   "cell_type": "code",
   "execution_count": 24,
   "metadata": {},
   "outputs": [
    {
     "name": "stdout",
     "output_type": "stream",
     "text": [
      "Identical items are : {2, 3, 5}\n"
     ]
    }
   ],
   "source": [
    "# Return a set of identical items\n",
    "print(\"Identical items are :\", set1 & set2)"
   ]
  },
  {
   "cell_type": "markdown",
   "metadata": {},
   "source": [
    "# Q10"
   ]
  },
  {
   "cell_type": "code",
   "execution_count": 28,
   "metadata": {},
   "outputs": [
    {
     "name": "stdout",
     "output_type": "stream",
     "text": [
      "Original set is : {40, 10, 50, 20, 30} \n",
      "{10, 20, 30} will be deleted\n",
      "{40, 50}\n"
     ]
    }
   ],
   "source": [
    "# Remove 10, 20, 30 elements from a following set\n",
    "set1 = {10, 20, 30, 40, 50}\n",
    "print(\"Original set is :\", set1,\"\\n{10, 20, 30} will be deleted\")\n",
    "\n",
    "set1.difference_update({10,20,30})\n",
    "print(set1)"
   ]
  },
  {
   "cell_type": "markdown",
   "metadata": {},
   "source": [
    "# Q11"
   ]
  },
  {
   "cell_type": "code",
   "execution_count": 39,
   "metadata": {},
   "outputs": [
    {
     "data": {
      "text/plain": [
       "20"
      ]
     },
     "execution_count": 39,
     "metadata": {},
     "output_type": "execute_result"
    }
   ],
   "source": [
    "# Access value 20 from the following tuple\n",
    "example = (\"Pooja\", [10, 20, 30], (25, 50, 15))\n",
    "lst=example[1]\n",
    "n=lst[1]\n",
    "n"
   ]
  },
  {
   "cell_type": "markdown",
   "metadata": {},
   "source": [
    "# Q12"
   ]
  },
  {
   "cell_type": "code",
   "execution_count": 43,
   "metadata": {},
   "outputs": [
    {
     "name": "stdout",
     "output_type": "stream",
     "text": [
      "50 has occured  2 times\n"
     ]
    }
   ],
   "source": [
    "# Count the number of occurrences\n",
    "numbers = (50, 10, 60, 70, 50)\n",
    "print(\"50 has occured \", numbers.count(50),\"times\")"
   ]
  },
  {
   "cell_type": "code",
   "execution_count": null,
   "metadata": {},
   "outputs": [],
   "source": []
  }
 ],
 "metadata": {
  "kernelspec": {
   "display_name": "Python 3",
   "language": "python",
   "name": "python3"
  },
  "language_info": {
   "codemirror_mode": {
    "name": "ipython",
    "version": 3
   },
   "file_extension": ".py",
   "mimetype": "text/x-python",
   "name": "python",
   "nbconvert_exporter": "python",
   "pygments_lexer": "ipython3",
   "version": "3.7.6"
  }
 },
 "nbformat": 4,
 "nbformat_minor": 4
}
