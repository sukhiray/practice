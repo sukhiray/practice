{
 "cells": [
  {
   "cell_type": "markdown",
   "metadata": {},
   "source": [
    "# Assignment 4\n",
    "\n",
    "## Dictionary "
   ]
  },
  {
   "cell_type": "markdown",
   "metadata": {},
   "source": [
    "### Given a dictionary:\n",
    "### car = {\"brand\": \"Ford”, “model\":\"Mustang\",\"year\":1964}\n",
    "### 1. Print the value of the \"model\" key of the car dictionary.\n",
    "### 2. Change the \"year\" value from 1964 to 2020.\n",
    "### 3. Add the key/value pair \"colour”: \"red\" to the car dictionary"
   ]
  },
  {
   "cell_type": "code",
   "execution_count": null,
   "metadata": {},
   "outputs": [],
   "source": [
    "car = {\"brand\": \"Ford\", \"model\":\"Mustang\", \"year\":1964}\n",
    "print(\"Model value is:  \",car[\"model\"])"
   ]
  },
  {
   "cell_type": "code",
   "execution_count": null,
   "metadata": {},
   "outputs": [],
   "source": [
    "car[\"year\"]=2020\n",
    "print(car)"
   ]
  },
  {
   "cell_type": "code",
   "execution_count": null,
   "metadata": {},
   "outputs": [],
   "source": [
    "car[\"colour\"]=\"red\"\n",
    "print(car)"
   ]
  },
  {
   "cell_type": "markdown",
   "metadata": {},
   "source": [
    "### Given a dictionary inventory :\n",
    "### inventory = {'gold' : 500, 'pouch' : ['flint', 'twine', 'gemstone'],'backpack' : ['xylophone’, ‘dagger', 'bedroll’, ‘bread’, ‘loaf']}\n",
    "### 4. Add a key to inventory called 'pocket' and Set the value of 'pocket' to be a list consisting of the strings 'seashell', 'strange berry', and 'lint'.\n",
    "### 5. Sort the items in the list stored under the 'backpack' key.\n",
    "### 6. Remove 'dagger' from the list of items stored under the 'backpack' key.\n",
    "### 7. Add 50 to the number stored under the 'gold' key."
   ]
  },
  {
   "cell_type": "code",
   "execution_count": null,
   "metadata": {},
   "outputs": [],
   "source": [
    "inventory = {'gold' : 500, 'pouch' : ['flint', 'twine', 'gemstone'],'backpack' : ['xylophone', 'dagger', 'bedroll', 'bread', 'loaf']}\n",
    "inventory[\"pocket\"]=[\"seashell\",\"strage berry\", \"lint\"]\n",
    "inventory"
   ]
  },
  {
   "cell_type": "code",
   "execution_count": null,
   "metadata": {},
   "outputs": [],
   "source": [
    "print(\"sorted backpack list:  \",sorted(inventory['backpack']))\n",
    "\n"
   ]
  },
  {
   "cell_type": "code",
   "execution_count": null,
   "metadata": {},
   "outputs": [],
   "source": [
    "from IPython.core.interactiveshell import InteractiveShell\n",
    "InteractiveShell.ast_node_interactivity = \"all\"\n",
    "\n",
    "bp=sorted(inventory['backpack'])\n",
    "c=[]\n",
    "for i in range(len(bp)):\n",
    "        k=bp[i]\n",
    "        if k!='dagger':\n",
    "            ele=bp[i]\n",
    "            c.append(ele)\n",
    "            \n",
    "inventory['backpack']=c\n",
    "print(inventory)"
   ]
  },
  {
   "cell_type": "code",
   "execution_count": null,
   "metadata": {},
   "outputs": [],
   "source": [
    "inventory = {'gold' : 500, 'pouch' : ['flint', 'twine', 'gemstone'],'backpack' : ['xylophone', 'dagger', 'bedroll', 'bread', 'loaf']}\n",
    "\n",
    "dic={'gold':[500, 50]}\n",
    "\n",
    "inventory.update(dic)\n",
    "inventory['gold']=sorted(inventory['gold'])\n",
    "\n",
    "print(inventory)"
   ]
  },
  {
   "cell_type": "markdown",
   "metadata": {},
   "source": [
    "# Q8\n",
    "### concatenate three dictionaries to create a new one"
   ]
  },
  {
   "cell_type": "code",
   "execution_count": null,
   "metadata": {},
   "outputs": [],
   "source": [
    "# input dictionary\n",
    "dic1={'two':2,'four':4}\n",
    "dic2={5:'five',7:'seven'}\n",
    "dic3={'name':'raju','relation':'uncle'}\n",
    "dic={}\n",
    "# COMBINE ALL INTO A NEW DICTIONARY\n",
    "dic={**dic1,**dic2,**dic3}                 # dic.update(dic1); dic.update(dic2); dic.update(dic3)\n",
    "print(\"combined dictionary\",dic)\n",
    "\n",
    "# CREATE DICTIONARY OF DICTIONARIES\n",
    "\n",
    "dics = []\n",
    "dics.append(dic1)\n",
    "dics.append(dic2)\n",
    "dics.append(dic3)\n",
    "print(\"concatenated dictionary\",dics)"
   ]
  },
  {
   "cell_type": "markdown",
   "metadata": {},
   "source": [
    "# Q9\n",
    "### sum all the items in a dictionary"
   ]
  },
  {
   "cell_type": "code",
   "execution_count": null,
   "metadata": {},
   "outputs": [],
   "source": [
    "number_dic = {'k1':250,'k2':-13,'k3':26}\n",
    "print(\"The sum of all values in the dictionary is   :\",sum(number_dic.values()))"
   ]
  },
  {
   "cell_type": "markdown",
   "metadata": {},
   "source": [
    "# Q10 & Q11\n",
    "### 10.  check existance of a key in a dictionary\n",
    "### 11.  delete the entry whose value is 200\n"
   ]
  },
  {
   "cell_type": "code",
   "execution_count": null,
   "metadata": {},
   "outputs": [],
   "source": [
    "d = {'foo': 100, 'bar': 200, 'baz': 300}\n",
    "p=list(d.keys())\n",
    "j=0\n",
    "check_key=input(\"enter the key to check its existance in the dictionary:   \")\n",
    "for i in range(len(p)):\n",
    "    if p[i]==check_key:\n",
    "        print(\"\\033[1m'{}'\\033[0m key is \\033[1m available \\033[0m\".format(check_key))\n",
    "        j=1\n",
    "if j==0:\n",
    "    print(\"\\033[1m'{}'\\033[0m key is \\033[1m missing \\033[0m in this dictionary\".format(check_key))\n"
   ]
  },
  {
   "cell_type": "code",
   "execution_count": null,
   "metadata": {},
   "outputs": [],
   "source": [
    "d = {'foo': 100, 'bar': 200, 'baz': 300}\n",
    "# when the key is already known\n",
    "d['bar']=None\n",
    "print(\"Edited dictionary: \",d)\n",
    "\n",
    "# when the respective key in unknown \n",
    "d = {'foo': 100, 'bar': 200, 'baz': 300}\n",
    "i_list=list(d.items())\n",
    "ch=200                            # Value given\n",
    "for i in range(len(i_list)):      # search the lists \n",
    "    t_list=i_list[i]              \n",
    "    for j in (0,1):               # search the tuple\n",
    "         if ch == t_list[j]:\n",
    "                tem=t_list[0]     # find the key\n",
    "                d.pop(tem)\n",
    "\n",
    "\n",
    "print(\"the changed dictionary: \",d)\n"
   ]
  },
  {
   "cell_type": "markdown",
   "metadata": {},
   "source": [
    "# Q12\n",
    "### check multiple keys exists in a dictionary"
   ]
  },
  {
   "cell_type": "code",
   "execution_count": null,
   "metadata": {},
   "outputs": [],
   "source": [
    "foo = {'foo':1,'bar':200,'baz':300,'jaz':400}\n",
    "n=int(input(\"enter TOTAL number of keys you want to find  \"))\n",
    "\n",
    "v=[None]*n                         # **define an empty list of definite length**\n",
    "      \n",
    "for i in range(0,n):                          # read all the keys\n",
    "    v[i]=input(\"enter key {}  \".format(i+1))\n",
    "\n",
    "if all (k in foo for k in (v[i] for i in range(0,n))):    # check all the keys in dictionary \n",
    "     print (\"Keys are there!\")\n",
    "else:\n",
    "    print(\"One or more keys are not valid key!\")"
   ]
  }
 ],
 "metadata": {
  "kernelspec": {
   "display_name": "Python 3",
   "language": "python",
   "name": "python3"
  },
  "language_info": {
   "codemirror_mode": {
    "name": "ipython",
    "version": 3
   },
   "file_extension": ".py",
   "mimetype": "text/x-python",
   "name": "python",
   "nbconvert_exporter": "python",
   "pygments_lexer": "ipython3",
   "version": "3.7.6"
  }
 },
 "nbformat": 4,
 "nbformat_minor": 4
}
