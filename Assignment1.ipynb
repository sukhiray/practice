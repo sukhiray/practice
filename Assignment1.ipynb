{
 "cells": [
  {
   "cell_type": "markdown",
   "metadata": {},
   "source": [
    "# Assignment 1\n",
    "## String"
   ]
  },
  {
   "cell_type": "markdown",
   "metadata": {},
   "source": [
    "### Variables are created by directly assignment\n",
    "#### **Integer** is a number that has **no** fractional component\n",
    "#### **Float** is a number that has fractional components\n",
    "#### **Complex** number has imaginary part. imaginary part is basically a real number multiplied by $\\sqrt{-1}$\n",
    "### These data types are used for numerical data i.e. **numbers**  \n",
    "#### **Boolean** is a binary data type having two values like _yes_/*no*, *true*/*false* *on*/*off* etc.\n",
    "### It is used for logical data  \n",
    "#### **String** data type is used to handle text data and the values are nedded to be placed under quotation\n",
    "### A String variable can have text, space, number, special characters "
   ]
  },
  {
   "cell_type": "markdown",
   "metadata": {},
   "source": [
    " #        Q1"
   ]
  },
  {
   "cell_type": "code",
   "execution_count": 44,
   "metadata": {},
   "outputs": [
    {
     "name": "stdout",
     "output_type": "stream",
     "text": [
      "P =  13 It is of <class 'int'>\n",
      "Q =  18.34 It is of <class 'float'>\n",
      "Z =  (13+18.34j) It is of <class 'complex'>\n",
      "Z1 =  (12+3.4j) It is of <class 'complex'>\n",
      "B =  False It is of <class 'bool'>\n",
      "S =  Assignment 1 It is of <class 'str'>\n"
     ]
    }
   ],
   "source": [
    "#P in integer variable\n",
    "\n",
    "P= 13\n",
    "\n",
    "#Q is float variable\n",
    "\n",
    "Q = 18.34\n",
    "\n",
    "#Z is complex variable\n",
    "#say Z= P+jQ\n",
    "\n",
    "Z= complex(P,Q)\n",
    "#another way of direct assignment is as follows \n",
    "Z1=12+3.4j\n",
    "\n",
    "#B is Boolena variable\n",
    "\n",
    "B= P>Q\n",
    "\n",
    "#S is string variavle\n",
    "\n",
    "S=\"Assignment 1\"\n",
    " \n",
    "print (\"P = \", P, 'It is of', type(P)) \n",
    "print (\"Q = \", Q, 'It is of', type(Q))\n",
    "print (\"Z = \", Z, 'It is of', type(Z))\n",
    "print (\"Z1 = \", Z1, 'It is of', type(Z1))\n",
    "print (\"B = \",B, 'It is of', type(B))\n",
    "print (\"S = \",S, 'It is of', type(S))"
   ]
  },
  {
   "cell_type": "markdown",
   "metadata": {},
   "source": [
    "#   Q2"
   ]
  },
  {
   "cell_type": "code",
   "execution_count": 51,
   "metadata": {},
   "outputs": [
    {
     "name": "stdout",
     "output_type": "stream",
     "text": [
      "data type of Q is now of  <class 'int'>\n",
      "data type of P is now of  <class 'str'>\n"
     ]
    }
   ],
   "source": [
    "#changing data types\n",
    "#float to integer\n",
    "Q=int(Q)\n",
    "print(\"data type of Q is now of \", type(Q))\n",
    "#integer to string\n",
    "P=str(P)\n",
    "print (\"data type of P is now of \", type(P))\n"
   ]
  },
  {
   "cell_type": "markdown",
   "metadata": {},
   "source": [
    "# Q3"
   ]
  },
  {
   "cell_type": "code",
   "execution_count": 123,
   "metadata": {},
   "outputs": [
    {
     "name": "stdout",
     "output_type": "stream",
     "text": [
      "Type of A is  <class 'str'>\n",
      "A is changed to <class 'bool'> with value  True\n",
      "A is changed to <class 'bool'> with value  False\n",
      "When we pass any value to a boolean variable, the logic becomes high (true) \n",
      "When empty or null valus is assigned the logica level goes low (false)\n"
     ]
    }
   ],
   "source": [
    "# text or string to boolean\n",
    "A='abc'\n",
    "print('Type of A is ', type(A))\n",
    "A=bool(A)\n",
    "print(\"A is changed to\", type(A), \"with value \",A)\n",
    "A=bool()\n",
    "print(\"A is changed to\", type(A), \"with value \",A)\n",
    "print('''When we pass any value to a boolean variable, the logic becomes high (true) \\nWhen empty or null valus is assigned the logica level goes low (false)''')"
   ]
  },
  {
   "cell_type": "markdown",
   "metadata": {},
   "source": [
    "# Q4"
   ]
  },
  {
   "cell_type": "code",
   "execution_count": 82,
   "metadata": {},
   "outputs": [
    {
     "name": "stdout",
     "output_type": "stream",
     "text": [
      "Substring fron 2 to 4th position of string  Hello World is llo\n"
     ]
    }
   ],
   "source": [
    "#subtext printing\n",
    "S=\"Hello World\"\n",
    "print(\"Substring fron 2 to 4th position of string \", S, \"is\", S[2:5])"
   ]
  },
  {
   "cell_type": "markdown",
   "metadata": {},
   "source": [
    "# Q5"
   ]
  },
  {
   "cell_type": "code",
   "execution_count": 121,
   "metadata": {},
   "outputs": [
    {
     "name": "stdout",
     "output_type": "stream",
     "text": [
      "The position of \"e\" is  5\n"
     ]
    }
   ],
   "source": [
    "#checking the presence and position of a letter in a string\n",
    "S='Umbrella'\n",
    "check='e'\n",
    "if check in S:\n",
    "    p=S.index(check)\n",
    "    print('The position of \"e\" is ',p+1)\n",
    "    \n",
    "else:\n",
    "    print ('no such element')"
   ]
  },
  {
   "cell_type": "markdown",
   "metadata": {},
   "source": [
    "# Q6"
   ]
  },
  {
   "cell_type": "code",
   "execution_count": 124,
   "metadata": {},
   "outputs": [
    {
     "name": "stdout",
     "output_type": "stream",
     "text": [
      "5 iss not equal to 10\n"
     ]
    }
   ],
   "source": [
    "#comapare\n",
    "if 5==10 :\n",
    "    print (\"5 is equal to 10\")\n",
    "else:\n",
    "    print(\"5 iss not equal to 10\")"
   ]
  },
  {
   "cell_type": "markdown",
   "metadata": {},
   "source": [
    "# Q7 & Q8"
   ]
  },
  {
   "cell_type": "code",
   "execution_count": 29,
   "metadata": {},
   "outputs": [
    {
     "name": "stdin",
     "output_type": "stream",
     "text": [
      "input a word/phrase here: hjgy\n"
     ]
    },
    {
     "name": "stdout",
     "output_type": "stream",
     "text": [
      "\" hjgy \"\n",
      "ghjy\n"
     ]
    },
    {
     "name": "stdin",
     "output_type": "stream",
     "text": [
      "input a sentence here: jyg kug \n"
     ]
    },
    {
     "name": "stdout",
     "output_type": "stream",
     "text": [
      "original input \" jyg kug  \"\n",
      "gjy gku\n"
     ]
    },
    {
     "name": "stdin",
     "output_type": "stream",
     "text": [
      "input a sentence here:  gjy uygk gi \n"
     ]
    },
    {
     "name": "stdout",
     "output_type": "stream",
     "text": [
      "original input \"  gjy uygk gi  \"\n",
      "gi gjy uygk\n",
      "gi_gjy_uygk\n"
     ]
    }
   ],
   "source": [
    "# read a word and sort it alphabetically \n",
    "\n",
    "S=input('input a word/phrase here:')\n",
    "print('\"',S,'\"')\n",
    "print(\"\".join(sorted(S)))\n",
    "\n",
    "#read a string and sort each of its words \n",
    "\n",
    "S=input('input a sentence here:')\n",
    "print('original input','\"',S,'\"')\n",
    "words=S.split()\n",
    "thelist=[]\n",
    "for i in range(len(words)):\n",
    "    a=\"\".join(sorted(words[i]))\n",
    "#    print(a)\n",
    "    thelist.append(a)  \n",
    "print(\" \".join(thelist))\n",
    "\n",
    "\n",
    "#read a string and sort its words \n",
    "\n",
    "S=input('input a sentence here:')\n",
    "print('original input','\"',S,'\"')\n",
    "temp=S.lower()\n",
    "words=temp.split()\n",
    "print(\" \".join(sorted(words)))\n",
    "\n",
    "#Join two words using special character\n",
    "print(\"_\".join(sorted(words)))\n"
   ]
  },
  {
   "cell_type": "markdown",
   "metadata": {},
   "source": [
    "# Q9"
   ]
  },
  {
   "cell_type": "code",
   "execution_count": 26,
   "metadata": {},
   "outputs": [
    {
     "name": "stdin",
     "output_type": "stream",
     "text": [
      "enter a sentence kjthf jhg lkhghd kf d  lk sg id kjhf d;lkd\n",
      "Enter the word you are looking for: d\n"
     ]
    },
    {
     "name": "stdout",
     "output_type": "stream",
     "text": [
      "d  is available at index  [4]\n"
     ]
    }
   ],
   "source": [
    "# find the occurance of a word\n",
    "\n",
    "# Step 1:\n",
    "# ** WE NEED TO REMOVE PUNCTUATION**\n",
    "\n",
    "# import string library function  \n",
    "import string  \n",
    "    \n",
    "# Storing the sets of punctuation as list  \n",
    "punct = list(string.punctuation)\n",
    "  \n",
    "# Printing the punctuation values  \n",
    "#print(punct)  \n",
    "\n",
    "#read the input sentence\n",
    "myline=input(\"enter a sentence\")\n",
    "mylist=list(myline)\n",
    "# print(mylist)\n",
    "\n",
    "#remove punctuation \n",
    "for i in punct[:]:\n",
    "    k=1\n",
    "    while (k>0): \n",
    "        if i in mylist:\n",
    "            mylist.remove(i)\n",
    "        else:   \n",
    "            k=0\n",
    "# print(mylist)       \n",
    "myline=\"\".join(mylist)\n",
    "# print(myline)\n",
    "\n",
    "\n",
    "temp=myline.lower()\n",
    "words=temp.split()  # create a list\n",
    "# print(words)\n",
    "\n",
    "# read the word to search\n",
    "w=input('Enter the word you are looking for:')\n",
    "\n",
    "\n",
    "location=[]\n",
    "for i in range(len(words)):\n",
    "    if words[i]==w:\n",
    "        location.append(i)\n",
    "print (w,' is available at index ', location)\n"
   ]
  },
  {
   "cell_type": "markdown",
   "metadata": {},
   "source": [
    "# Q10"
   ]
  },
  {
   "cell_type": "code",
   "execution_count": 23,
   "metadata": {},
   "outputs": [
    {
     "name": "stdout",
     "output_type": "stream",
     "text": [
      "Original input is:  ''Hello World''\n",
      "The output is: 'Henno World'\n"
     ]
    }
   ],
   "source": [
    "# Replace first two ‘l’ with 'n'\n",
    "\n",
    "S=list('Hello World')\n",
    "print(\"Original input is:  ''{}''\".format(\"\".join(S)))\n",
    "i=0\n",
    "\n",
    "while (i<2):\n",
    "    if 'l' in S:\n",
    "        k=S.index('l')\n",
    "        # print(k)\n",
    "        S[k]='n'\n",
    "        i+=1\n",
    "\n",
    "print(\"The output is: '{}'\".format(\"\".join(S)))"
   ]
  },
  {
   "cell_type": "markdown",
   "metadata": {},
   "source": [
    "# Q11"
   ]
  },
  {
   "cell_type": "code",
   "execution_count": 18,
   "metadata": {},
   "outputs": [
    {
     "name": "stdin",
     "output_type": "stream",
     "text": [
      "Enter your name kh jhu cgd hkh\n"
     ]
    },
    {
     "name": "stdout",
     "output_type": "stream",
     "text": [
      "K.J.C.Hkh\n"
     ]
    }
   ],
   "source": [
    "# abbreviations of name\n",
    "\n",
    "name=input(\"Enter your name\")\n",
    "namelist=name.split()\n",
    "\n",
    "# number of parts\n",
    "n=len(namelist)-1\n",
    "k=[]\n",
    "\n",
    "for i in range(n):\n",
    "    #a=namelist.split()\n",
    "    a=namelist[i].upper()\n",
    "    k.append(a[0])\n",
    "    k.append(\".\")\n",
    "a=namelist[n].capitalize()    \n",
    "k.append(a)\n",
    "print(\"\".join(k))\n"
   ]
  },
  {
   "cell_type": "markdown",
   "metadata": {},
   "source": [
    "# Q12"
   ]
  },
  {
   "cell_type": "code",
   "execution_count": 26,
   "metadata": {},
   "outputs": [
    {
     "name": "stdin",
     "output_type": "stream",
     "text": [
      "Enter a Word to check its Palindrom status mimam\n"
     ]
    },
    {
     "name": "stdout",
     "output_type": "stream",
     "text": [
      "mimam  is not a Palindrom\n"
     ]
    }
   ],
   "source": [
    "# Write a program to check if a given string is Palindrome\n",
    "\n",
    "my_str=input(\"Enter a Word to check its Palindrom status\").lower()\n",
    " \n",
    "oppo_str=my_str[::-1]\n",
    " \n",
    "if (my_str == oppo_str):\n",
    "    print(my_str, \" is a Palindrome\")\n",
    "else:\n",
    "    print(my_str, \" is not a Palindrom\")"
   ]
  },
  {
   "cell_type": "code",
   "execution_count": null,
   "metadata": {},
   "outputs": [],
   "source": []
  }
 ],
 "metadata": {
  "kernelspec": {
   "display_name": "Python 3",
   "language": "python",
   "name": "python3"
  },
  "language_info": {
   "codemirror_mode": {
    "name": "ipython",
    "version": 3
   },
   "file_extension": ".py",
   "mimetype": "text/x-python",
   "name": "python",
   "nbconvert_exporter": "python",
   "pygments_lexer": "ipython3",
   "version": "3.7.6"
  }
 },
 "nbformat": 4,
 "nbformat_minor": 4
}
