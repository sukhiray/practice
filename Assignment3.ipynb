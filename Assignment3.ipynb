{
 "cells": [
  {
   "cell_type": "markdown",
   "metadata": {},
   "source": [
    "# <pre> Lists\n",
    "### It is a collection of indexed eleents\n",
    "### It is mutable [changable]"
   ]
  },
  {
   "cell_type": "markdown",
   "metadata": {},
   "source": [
    "# Q1\n",
    "\n",
    "### </pre> City = [‘Gurgaon’, ’Mumbai’, ’Bangalore’] </pre>\n",
    "#### </pre> i) Print the second item from the list. </pre>\n",
    "#### </pre> ii) Change the value from \"Gurgaon\" to \"Kerala\" </pre>\n",
    "#### </pre> iii) Remove the last element of the list. </pre>\n",
    "\n",
    "# Q4\n",
    "#### Remove the last element from the city list"
   ]
  },
  {
   "cell_type": "code",
   "execution_count": null,
   "metadata": {},
   "outputs": [],
   "source": [
    "# Read a list\n",
    "City = ['Gurgaon', 'Mumbai', 'Bangalore'] \n",
    "\n",
    "# print 2nd item\n",
    "print(City[1])\n",
    "\n",
    "#change Gurgaon to Kerala\n",
    "City[0]='Kerala'\n",
    "print(City)\n",
    "\n",
    "## Remove last item and Save it\n",
    "City_last=City.pop()\n",
    "print(City_last)\n",
    "print(City)\n"
   ]
  },
  {
   "cell_type": "markdown",
   "metadata": {},
   "source": [
    "# Q2\n",
    "### </pre> Use negative indexing to print the last item in the list. Make a list by yourself."
   ]
  },
  {
   "cell_type": "code",
   "execution_count": null,
   "metadata": {},
   "outputs": [],
   "source": [
    "# create a list\n",
    "mylist=[]\n",
    "n=int(input(\"Enter \"+\"\\033[4m\"\"\\033[1m\"\"TOTAL\"\"\\033[0m\"+\" number of elements in the list you are going to create: \"))\n",
    "for i in range(n):\n",
    "    mylist.append(input(\"Enter element \"\"\\033[35m\"\"\\033[1m\"\"{}: \".format(i)))\n",
    "                                                         # print(mylist)\n",
    "\n",
    "print(\"The final list is: \",mylist)\n",
    "print(\"The last item in the list: \",mylist[-1])"
   ]
  },
  {
   "cell_type": "markdown",
   "metadata": {},
   "source": [
    "# color: </pre>\n",
    "####   PURPLE = '\\033[95m'\n",
    "####   CYAN = '\\033[96m'\n",
    "####   DARKCYAN = '\\033[36m'\n",
    "####   BLUE = '\\033[94m'\n",
    "####   GREEN = '\\033[92m'\n",
    "####   YELLOW = '\\033[93m'\n",
    "####   RED = '\\033[91m'\n",
    "####   BOLD = '\\033[1m'\n",
    "####   UNDERLINE = '\\033[4m'\n",
    "####   END = '\\033[0m'"
   ]
  },
  {
   "cell_type": "markdown",
   "metadata": {},
   "source": [
    "### <pre>      \n",
    "\n",
    "# Q3\n",
    "### </PER> Use a range of indexes to print the 3rd, 4th and 5th item in the list. "
   ]
  },
  {
   "cell_type": "code",
   "execution_count": null,
   "metadata": {},
   "outputs": [],
   "source": [
    "city = ['Gurgaon', 'Mumbai', 'Bangalore', 'Kolkata', 'Delhi', 'Manali', 'Shimla', 'Rudraprayag'] \n",
    "# print 3rd, 4th and 5th index values\n",
    "print(\"complete list: \",city)\n",
    "print(\"3rd element: {} \\n4th element: {} \\n5th element: {} \".format(city[2],city[3],city[4]))"
   ]
  },
  {
   "cell_type": "markdown",
   "metadata": {},
   "source": [
    "# Q5\n",
    "### fruits=[‘apple’,’lichi’,’guava’,’cherry’,’mango’,’watermelon’,’banana’]\n",
    "#### i ) Add \"orange\" at the end of the above list.\n",
    "#### ii) Add \"lemon\" as the second item in the fruits list"
   ]
  },
  {
   "cell_type": "code",
   "execution_count": null,
   "metadata": {},
   "outputs": [],
   "source": [
    "# the list\n",
    "fruits=['apple','lichi','guava','cherry','mango','watermelon','banana']\n",
    "\n",
    "# read the length\n",
    "n=len(fruits)\n",
    "fruits.append(\"orange\")     # to add multiple items at end .extend(()) is used ;  fruits.extend((\"orange\",\"berry\"))\n",
    "\n",
    "print(\"list after adding \"+\"\\033[4m\" \"orange\"\"\\033[0m\"+\" at end:\\n\",fruits)\n",
    "\n",
    "fruits.insert(1,\"lemon\")\n",
    "print(\"list after adding \"+\"\\033[4m\" \"lemon\"\"\\033[0m\"+\" at 2nd position: \\n\",fruits)"
   ]
  },
  {
   "cell_type": "markdown",
   "metadata": {},
   "source": [
    "# Q6\n",
    "### Remove ‘cherry’"
   ]
  },
  {
   "cell_type": "code",
   "execution_count": null,
   "metadata": {},
   "outputs": [],
   "source": [
    "# new list created to keep main list unchanged\n",
    "my_fruits=list(fruits)\n",
    "print(\" \",fruits,\"\\n\",my_fruits)\n",
    "my_fruits.remove('cherry')\n",
    "print(\"\\033[1m\"\"List after removing 'cherry':  \" \"\\033[0m\"\"\\nfruits: \",fruits, \"\\nmy_fruits: \", my_fruits)\n"
   ]
  },
  {
   "cell_type": "markdown",
   "metadata": {},
   "source": [
    "# Q7 \n",
    "\n",
    "### input a list of numbers and print the list in descending orderm"
   ]
  },
  {
   "cell_type": "code",
   "execution_count": null,
   "metadata": {},
   "outputs": [],
   "source": [
    "# create a list\n",
    "mylist=[]\n",
    "i=0\n",
    "n=int(input(\"Enter \"+\"\\033[4m\"\"\\033[1m\"\"TOTAL\"\"\\033[0m\"+\" number of elements in the list you are going to create: \"))\n",
    "while i<n:\n",
    "    x=input(\"Enter element \"\"\\033[35m\"\"\\033[1m\"\"{}: \".format(i))\n",
    "    try:\n",
    "        t=int(x)   \n",
    "        #if type(x) == int or type(x) == float:\n",
    "        mylist.append(t)\n",
    "        i+=1\n",
    "    except ValueError:\n",
    "        try:  \n",
    "            t=float(x)\n",
    "            mylist.append(t)\n",
    "            i+=1\n",
    "        except ValueError:\n",
    "            print(\"Enter numbers only\")\n",
    "                                                         \n",
    "print(\"The final list is: \",mylist)\n",
    "print(\"sorted list is: \",sorted(mylist))"
   ]
  },
  {
   "cell_type": "markdown",
   "metadata": {},
   "source": [
    "# Q8\n",
    "### input two lists and combine both the lists"
   ]
  },
  {
   "cell_type": "code",
   "execution_count": null,
   "metadata": {},
   "outputs": [],
   "source": [
    "# input two lists\n",
    "mylist=[]\n",
    "\n",
    "for i in range(2):\n",
    "    n=int(input(\"Enter the total number of elements in lis {}:  \".format(i+1)))\n",
    "    templist=[]\n",
    "    for j in range(n):\n",
    "        ele=input(\"enter for list{}, element{}:  \".format(i+1,j+1))\n",
    "        templist.append(ele)\n",
    "    print(\"list {}   \".format(i+1),templist)\n",
    "    mylist.extend(templist)\n",
    "\n",
    "print(\"final list after joining two lists:   \",mylist)"
   ]
  },
  {
   "cell_type": "markdown",
   "metadata": {},
   "source": [
    "# Q9\n",
    "### List = [10, 45, 78, 11, 9, 23]. Shuffle this list."
   ]
  },
  {
   "cell_type": "code",
   "execution_count": null,
   "metadata": {},
   "outputs": [],
   "source": [
    "# read the list \n",
    "mylist=[10, 45, 78, 11, 9, 23]\n",
    "print(\"original list:   \",mylist)\n",
    "\n",
    "import random \n",
    "\n",
    "random.shuffle(mylist)\n",
    "print(\"shuffled list:   \",mylist)"
   ]
  },
  {
   "cell_type": "markdown",
   "metadata": {},
   "source": [
    "# Q10\n",
    "### x = [10, [3.141, 20, [30, 'baz', 2.718]], 'foo']\n",
    "### i) What is the expression that returns the 'z' in 'baz'?\n",
    "### ii) What expression returns the list ['baz', 2.718]?"
   ]
  },
  {
   "cell_type": "code",
   "execution_count": null,
   "metadata": {},
   "outputs": [],
   "source": [
    "x = [10, [3.141, 20, [30, 'baz', 2.718]], 'foo']\n",
    "char='z'\n",
    "a,b,c=x\n",
    "n=('z' in item for item in x) \n",
    "#for i in range(len(x)):\n",
    "#    q=x[i]\n",
    "#    print(type(q))\n",
    " #   if (type(q))==list:\n",
    " #       p=len(q)\n",
    "  #      for i in range(len(x(i))):\n",
    "  #             if char in q:\n",
    "  #              print(x.index(sub_list), sub_list.index(char))\n",
    "\n",
    "\n",
    "\n",
    "\n",
    "\n",
    "n1=x[1]\n",
    "n2=n1[2]\n",
    "n3=n2[1]\n",
    "n4=n3[2]\n",
    "n"
   ]
  },
  {
   "cell_type": "markdown",
   "metadata": {},
   "source": [
    "# Q12\n",
    "### a = [1, 2, 7, 8]\n",
    "### Write a Python statement using slice assignment that will fill in the missing values so that a equals [1, 2, 3, 4, 5, 6, 7, 8]"
   ]
  },
  {
   "cell_type": "code",
   "execution_count": null,
   "metadata": {},
   "outputs": [],
   "source": [
    "a = [1, 2, 7, 8]\n",
    "print(\"the list is:  \", a)\n",
    "a[2:2]=list(range(3,7))\n",
    "print(\"new list is: \",a)"
   ]
  }
 ],
 "metadata": {
  "kernelspec": {
   "display_name": "Python 3",
   "language": "python",
   "name": "python3"
  },
  "language_info": {
   "codemirror_mode": {
    "name": "ipython",
    "version": 3
   },
   "file_extension": ".py",
   "mimetype": "text/x-python",
   "name": "python",
   "nbconvert_exporter": "python",
   "pygments_lexer": "ipython3",
   "version": "3.7.6"
  }
 },
 "nbformat": 4,
 "nbformat_minor": 4
}
